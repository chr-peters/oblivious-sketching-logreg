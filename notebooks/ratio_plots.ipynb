{
 "cells": [
  {
   "cell_type": "code",
   "execution_count": null,
   "metadata": {},
   "outputs": [],
   "source": [
    "from sketching import settings\n",
    "from sketching.datasets import Dataset, Covertype_Sklearn, KDDCup_Sklearn, Webspam_libsvm, Synthetic_Dataset, NoisyDataset\n",
    "\n",
    "import pandas as pd\n",
    "\n",
    "import numpy as np\n",
    "\n",
    "import matplotlib.pyplot as plt\n",
    "import matplotlib"
   ]
  },
  {
   "cell_type": "code",
   "execution_count": null,
   "metadata": {},
   "outputs": [],
   "source": [
    "if not settings.PLOTS_DIR.exists():\n",
    "    settings.PLOTS_DIR.mkdir()"
   ]
  },
  {
   "cell_type": "code",
   "execution_count": null,
   "metadata": {},
   "outputs": [],
   "source": [
    "def get_results_df(dataset: Dataset):\n",
    "    df_list = []\n",
    "    \n",
    "    for method in [\"uniform\", \"l2s\", \"sketching\"]:\n",
    "        df = (\n",
    "            pd.read_csv(settings.RESULTS_DIR / (dataset.get_name() + f\"_{method}.csv\"))\n",
    "            .filter(items=[\"ratio\", \"size\"])\n",
    "            .groupby([\"size\"], as_index=False)\n",
    "            .median()\n",
    "            .assign(method=method)\n",
    "        )\n",
    "        df_list.append(df)\n",
    "\n",
    "    df_sgd = (\n",
    "        pd.read_csv(settings.RESULTS_DIR / (dataset.get_name() + \"_sgd.csv\"))\n",
    "        .filter(items=[\"ratio\"])\n",
    "        .assign(method=\"sgd\", size=np.nan)\n",
    "        .groupby([\"method\"], as_index=False)\n",
    "        .median()\n",
    "    )\n",
    "    df_list.append(df_sgd)\n",
    "\n",
    "    return(pd.concat(df_list, ignore_index=True))"
   ]
  },
  {
   "cell_type": "code",
   "execution_count": null,
   "metadata": {},
   "outputs": [],
   "source": [
    "def make_plot(dataset, x_min, x_max, y_min, y_max, font_size=15, font_size_title=23):\n",
    "    results_df = get_results_df(dataset)\n",
    "\n",
    "    # use TeX for typesetting\n",
    "    plt.rcParams[\"text.usetex\"] = True\n",
    "    plt.rc(\"font\", size=font_size)\n",
    "\n",
    "    fig, ax = plt.subplots()\n",
    "\n",
    "    colormap = matplotlib.cm.get_cmap(name=\"tab20\")\n",
    "    colors = {\n",
    "        \"uniform\": colormap(0),\n",
    "        \"sketching\": colormap(2),\n",
    "        \"l2s\": colormap(4),\n",
    "    }\n",
    "\n",
    "    labels = {\n",
    "        \"uniform\": \"Uniform\",\n",
    "        \"sketching\": \"Sketch\",\n",
    "        \"l2s\": \"L2S\",\n",
    "        \"sgd\": \"SGD\"\n",
    "    }\n",
    "\n",
    "    titles = {\n",
    "        \"covertype_sklearn\": \"Covertype\",\n",
    "        \"covertype_sklearn_noisy\": \"Covertype, 1\\% noisy\",\n",
    "        \"kddcup_sklearn\": \"Kddcup\",\n",
    "        \"kddcup_sklearn_noisy\": \"Kddcup, 1\\% noisy\",\n",
    "        \"webspam_libsvm_desparsed\": \"Webspam\",\n",
    "        \"webspam_libsvm_desparsed_noisy\": \"Webspam, 1\\% noisy\",\n",
    "        \"synthetic_n_100000\": \"Synthetic\"\n",
    "    }\n",
    "\n",
    "    # add SGD\n",
    "    median_sgd = results_df.loc[results_df[\"method\"] == \"sgd\"][\"ratio\"]\n",
    "    ax.plot([x_min, x_max], [median_sgd, median_sgd], label=\"SGD\", color=colormap(7))\n",
    "\n",
    "    for cur_method in [\"l2s\", \"uniform\", \"sketching\"]:\n",
    "        cur_results = results_df.loc[results_df[\"method\"] == cur_method]\n",
    "        ax.plot(\n",
    "            cur_results[\"size\"], \n",
    "            cur_results[\"ratio\"],\n",
    "            color=colors[cur_method],\n",
    "            label=labels[cur_method],\n",
    "        )\n",
    "\n",
    "    ax.set_xlim(left=x_min, right=x_max)\n",
    "    ax.set_ylim(bottom=y_min, top=y_max)\n",
    "\n",
    "    ax.set_xlabel(\"reduced size\")\n",
    "    ax.set_ylabel(\"median approximation ratio\")\n",
    "\n",
    "    ax.set_title(titles[dataset.get_name()], fontsize=font_size_title)\n",
    "\n",
    "    legend = ax.legend(loc=\"upper right\", frameon=True)\n",
    "\n",
    "    fig.tight_layout()\n",
    "\n",
    "    plt.savefig(settings.PLOTS_DIR / f\"{dataset.get_name()}_ratio_plot.pdf\")\n",
    "\n",
    "    plt.show()"
   ]
  },
  {
   "cell_type": "code",
   "execution_count": null,
   "metadata": {},
   "outputs": [],
   "source": [
    "dataset = Covertype_Sklearn()\n",
    "make_plot(dataset, x_min=0, x_max=15000, y_min=1, y_max=1.2)"
   ]
  },
  {
   "cell_type": "code",
   "execution_count": null,
   "metadata": {},
   "outputs": [],
   "source": [
    "dataset = KDDCup_Sklearn()\n",
    "make_plot(dataset, x_min=0, x_max=30000, y_min=1, y_max=5)"
   ]
  },
  {
   "cell_type": "code",
   "execution_count": null,
   "metadata": {},
   "outputs": [],
   "source": [
    "dataset = Webspam_libsvm()\n",
    "make_plot(dataset, x_min=0, x_max=15000, y_min=1, y_max=2)"
   ]
  },
  {
   "cell_type": "code",
   "execution_count": null,
   "metadata": {},
   "outputs": [],
   "source": [
    "dataset = Synthetic_Dataset(n_rows=100000)\n",
    "make_plot(dataset, x_min=0, x_max=3000, y_min=1, y_max=35)"
   ]
  },
  {
   "cell_type": "code",
   "execution_count": null,
   "metadata": {},
   "outputs": [],
   "source": [
    "dataset = NoisyDataset(dataset=Webspam_libsvm(), percentage=0.01, std=10)\n",
    "make_plot(dataset, x_min=0, x_max=15000, y_min=1, y_max=10)"
   ]
  },
  {
   "cell_type": "code",
   "execution_count": null,
   "metadata": {},
   "outputs": [],
   "source": [
    "dataset = NoisyDataset(dataset=Covertype_Sklearn(), percentage=0.01, std=10)\n",
    "make_plot(dataset, x_min=0, x_max=15000, y_min=1, y_max=1.5)"
   ]
  },
  {
   "cell_type": "code",
   "execution_count": null,
   "metadata": {},
   "outputs": [],
   "source": [
    "dataset = NoisyDataset(dataset=KDDCup_Sklearn(), percentage=0.01, std=10)\n",
    "make_plot(dataset, x_min=0, x_max=30000, y_min=1, y_max=5)"
   ]
  }
 ],
 "metadata": {
  "kernelspec": {
   "display_name": "Python 3.9.5  ('venv': venv)",
   "name": "pythonjvsc74a57bd0973d2a6cb8ee44537b3c610059a856246ace7cb1c50cf3df2561fdd2103fe937"
  },
  "language_info": {
   "codemirror_mode": {
    "name": "ipython",
    "version": 3
   },
   "file_extension": ".py",
   "mimetype": "text/x-python",
   "name": "python",
   "nbconvert_exporter": "python",
   "pygments_lexer": "ipython3",
   "version": "3.9.5"
  },
  "metadata": {
   "interpreter": {
    "hash": "973d2a6cb8ee44537b3c610059a856246ace7cb1c50cf3df2561fdd2103fe937"
   }
  },
  "orig_nbformat": 2
 },
 "nbformat": 4,
 "nbformat_minor": 2
}