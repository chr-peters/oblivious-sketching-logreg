{
 "cells": [
  {
   "cell_type": "code",
   "execution_count": null,
   "metadata": {},
   "outputs": [],
   "source": [
    "from sketching import settings\n",
    "from sketching.datasets import Dataset, Covertype_Sklearn, KDDCup_Sklearn, Webspam_libsvm, Synthetic_Dataset\n",
    "\n",
    "import pandas as pd\n",
    "\n",
    "import numpy as np\n",
    "\n",
    "import matplotlib.pyplot as plt\n",
    "import matplotlib"
   ]
  },
  {
   "cell_type": "code",
   "execution_count": null,
   "metadata": {},
   "outputs": [],
   "source": [
    "def get_results_df(dataset: Dataset, time_column):\n",
    "    df_list = []\n",
    "    \n",
    "    for method in [\"uniform\", \"l2s\", \"sketching\"]:\n",
    "        df = (\n",
    "            pd.read_csv(settings.RESULTS_DIR / (dataset.get_name() + f\"_{method}.csv\"))\n",
    "            .filter(items=[time_column, \"size\", \"ratio\"])\n",
    "            .groupby([\"size\"], as_index=False)\n",
    "            .median()\n",
    "            .assign(method=method)\n",
    "        )\n",
    "        df_list.append(df)\n",
    "\n",
    "    return(pd.concat(df_list, ignore_index=True))\n",
    "\n",
    "get_results_df(Covertype_Sklearn(), \"sampling_time_s\")"
   ]
  },
  {
   "cell_type": "code",
   "execution_count": null,
   "metadata": {},
   "outputs": [],
   "source": [
    "def make_plot(dataset,  x_min, x_max, y_min, y_max, sampling_time=False, font_size=18, font_size_title=23):\n",
    "    if sampling_time:\n",
    "        time_column = \"sampling_time_s\"\n",
    "    else:\n",
    "        time_column = \"total_time_s\"\n",
    "\n",
    "    results_df = get_results_df(dataset, time_column=time_column)\n",
    "\n",
    "    # use TeX for typesetting\n",
    "    plt.rcParams[\"text.usetex\"] = True\n",
    "    plt.rc(\"font\", size=font_size)\n",
    "\n",
    "    fig, ax = plt.subplots()\n",
    "\n",
    "    colormap = matplotlib.cm.get_cmap(name=\"tab20\")\n",
    "    colors = {\n",
    "        \"uniform\": colormap(0),\n",
    "        \"sketching\": colormap(2),\n",
    "        \"l2s\": colormap(4),\n",
    "    }\n",
    "\n",
    "    labels = {\n",
    "        \"uniform\": \"Uniform\",\n",
    "        \"sketching\": \"Sketch\",\n",
    "        \"l2s\": \"L2S\",\n",
    "    }\n",
    "\n",
    "    titles = {\n",
    "        \"covertype_sklearn\": \"Covertype\",\n",
    "        \"kddcup_sklearn\": \"Kddcup\",\n",
    "        \"webspam_libsvm_desparsed\": \"Webspam\",\n",
    "        \"synthetic_n_100000\": \"Synthetic\"\n",
    "    }\n",
    "\n",
    "    for cur_method in [\"l2s\", \"uniform\", \"sketching\"]:\n",
    "        cur_results = results_df.loc[results_df[\"method\"] == cur_method]\n",
    "        ax.scatter(\n",
    "            cur_results[time_column], \n",
    "            cur_results[\"ratio\"],\n",
    "            color=colors[cur_method],\n",
    "            label=labels[cur_method],\n",
    "        )\n",
    "\n",
    "    ax.set_xlim(left=x_min, right=x_max)\n",
    "    ax.set_ylim(bottom=y_min, top=y_max)\n",
    "\n",
    "    if sampling_time:\n",
    "        ax.set_xlabel(\"median sampling time (s)\")\n",
    "    else:\n",
    "        ax.set_xlabel(\"median absolute running time (s)\")\n",
    "\n",
    "    ax.set_ylabel(\"median approximation ratio\")\n",
    "\n",
    "    ax.set_title(titles[dataset.get_name()], fontsize=font_size_title)\n",
    "\n",
    "    legend = ax.legend(loc=\"upper right\", frameon=True)\n",
    "\n",
    "    fig.tight_layout()\n",
    "\n",
    "    plt.show()\n"
   ]
  },
  {
   "cell_type": "code",
   "execution_count": null,
   "metadata": {},
   "outputs": [],
   "source": [
    "dataset = Covertype_Sklearn()\n",
    "make_plot(dataset, x_min=None, x_max=None, y_min=None, y_max=None, sampling_time=False)\n",
    "make_plot(dataset, x_min=None, x_max=None, y_min=None, y_max=None, sampling_time=True)"
   ]
  },
  {
   "cell_type": "code",
   "execution_count": null,
   "metadata": {},
   "outputs": [],
   "source": [
    "dataset = KDDCup_Sklearn()\n",
    "make_plot(dataset, x_min=None, x_max=None, y_min=1, y_max=10, sampling_time=False)\n",
    "make_plot(dataset, x_min=None, x_max=None, y_min=1, y_max=6, sampling_time=True)"
   ]
  },
  {
   "cell_type": "code",
   "execution_count": null,
   "metadata": {},
   "outputs": [],
   "source": [
    "dataset = Webspam_libsvm()\n",
    "make_plot(dataset, x_min=None, x_max=None, y_min=1, y_max=2, sampling_time=False)\n",
    "make_plot(dataset, x_min=None, x_max=None, y_min=1, y_max=2, sampling_time=True)"
   ]
  },
  {
   "cell_type": "code",
   "execution_count": null,
   "metadata": {},
   "outputs": [],
   "source": [
    "dataset = Synthetic_Dataset(n_rows=100000)\n",
    "make_plot(dataset, x_min=None, x_max=None, y_min=None, y_max=None, sampling_time=False)\n",
    "make_plot(dataset, x_min=None, x_max=None, y_min=None, y_max=None, sampling_time=True)"
   ]
  }
 ],
 "metadata": {
  "kernelspec": {
   "display_name": "Python 3.9.5  ('venv': venv)",
   "name": "pythonjvsc74a57bd0973d2a6cb8ee44537b3c610059a856246ace7cb1c50cf3df2561fdd2103fe937"
  },
  "language_info": {
   "codemirror_mode": {
    "name": "ipython",
    "version": 3
   },
   "file_extension": ".py",
   "mimetype": "text/x-python",
   "name": "python",
   "nbconvert_exporter": "python",
   "pygments_lexer": "ipython3",
   "version": "3.9.5"
  },
  "metadata": {
   "interpreter": {
    "hash": "973d2a6cb8ee44537b3c610059a856246ace7cb1c50cf3df2561fdd2103fe937"
   }
  },
  "orig_nbformat": 2
 },
 "nbformat": 4,
 "nbformat_minor": 2
}