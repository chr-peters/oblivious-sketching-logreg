{
 "cells": [
  {
   "cell_type": "code",
   "execution_count": 1,
   "metadata": {},
   "outputs": [],
   "source": [
    "from sketching.datasets import Dataset, Covertype_Sklearn, KDDCup_Sklearn, Webspam_libsvm\n",
    "from sketching import settings\n",
    "\n",
    "import logging\n",
    "\n",
    "# disable log output\n",
    "logger = logging.getLogger(settings.LOGGER_NAME)\n",
    "logger.setLevel(logging.WARNING)"
   ]
  },
  {
   "cell_type": "code",
   "execution_count": 2,
   "metadata": {},
   "outputs": [],
   "source": [
    "def print_dataset_info(dataset: Dataset):\n",
    "    print(\"Info for dataset \"+dataset.get_name()+\":\")\n",
    "    print(f\"n = {dataset.get_n()}\")\n",
    "    print(f\"d = {dataset.get_d()}\")"
   ]
  },
  {
   "cell_type": "code",
   "execution_count": 3,
   "metadata": {},
   "outputs": [
    {
     "name": "stdout",
     "output_type": "stream",
     "text": [
      "Info for dataset covertype_sklearn:\n",
      "n = 581012\n",
      "d = 54\n",
      "Info for dataset kddcup_sklearn:\n",
      "n = 494021\n",
      "d = 33\n",
      "Info for dataset webspam_libsvm_desparsed:\n",
      "n = 350000\n",
      "d = 128\n"
     ]
    }
   ],
   "source": [
    "print_dataset_info(Covertype_Sklearn())\n",
    "print_dataset_info(KDDCup_Sklearn())\n",
    "print_dataset_info(Webspam_libsvm())"
   ]
  }
 ],
 "metadata": {
  "kernelspec": {
   "display_name": "Python 3.9.5  ('venv': venv)",
   "name": "pythonjvsc74a57bd0973d2a6cb8ee44537b3c610059a856246ace7cb1c50cf3df2561fdd2103fe937"
  },
  "language_info": {
   "codemirror_mode": {
    "name": "ipython",
    "version": 3
   },
   "file_extension": ".py",
   "mimetype": "text/x-python",
   "name": "python",
   "nbconvert_exporter": "python",
   "pygments_lexer": "ipython3",
   "version": "3.9.5"
  },
  "metadata": {
   "interpreter": {
    "hash": "973d2a6cb8ee44537b3c610059a856246ace7cb1c50cf3df2561fdd2103fe937"
   }
  },
  "orig_nbformat": 2
 },
 "nbformat": 4,
 "nbformat_minor": 2
}