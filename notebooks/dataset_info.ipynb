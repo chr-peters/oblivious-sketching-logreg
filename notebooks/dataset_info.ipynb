{
 "cells": [
  {
   "cell_type": "code",
   "execution_count": null,
   "metadata": {},
   "outputs": [],
   "source": [
    "from sketching.datasets import Dataset, Covertype_Sklearn, KDDCup_Sklearn, Webspam_libsvm"
   ]
  },
  {
   "cell_type": "code",
   "execution_count": null,
   "metadata": {},
   "outputs": [],
   "source": [
    "def print_dataset_info(dataset: Dataset):\n",
    "    dataset.get_Z() # do this to quickly get rid of logging output\n",
    "    print(\"Info for dataset \"+dataset.get_name()+\":\")\n",
    "    print(f\"n = {dataset.get_n()}\")\n",
    "    print(f\"d = {dataset.get_d()}\")"
   ]
  },
  {
   "cell_type": "code",
   "execution_count": null,
   "metadata": {},
   "outputs": [],
   "source": [
    "print_dataset_info(Covertype_Sklearn())\n",
    "print_dataset_info(KDDCup_Sklearn())\n",
    "print_dataset_info(Webspam_libsvm())"
   ]
  }
 ],
 "metadata": {
  "kernelspec": {
   "display_name": "Python 3.9.5  ('venv': venv)",
   "name": "pythonjvsc74a57bd0973d2a6cb8ee44537b3c610059a856246ace7cb1c50cf3df2561fdd2103fe937"
  },
  "language_info": {
   "codemirror_mode": {
    "name": "ipython",
    "version": 3
   },
   "file_extension": ".py",
   "mimetype": "text/x-python",
   "name": "python",
   "nbconvert_exporter": "python",
   "pygments_lexer": "ipython3",
   "version": "3.9.5"
  },
  "metadata": {
   "interpreter": {
    "hash": "973d2a6cb8ee44537b3c610059a856246ace7cb1c50cf3df2561fdd2103fe937"
   }
  },
  "orig_nbformat": 2
 },
 "nbformat": 4,
 "nbformat_minor": 2
}