{
 "cells": [
  {
   "cell_type": "code",
   "execution_count": null,
   "metadata": {},
   "outputs": [],
   "source": [
    "from sketching.experiments import UniformSamplingExperiment, L2SExperiment, SGDExperiment, ObliviousSketchingExperiment\n",
    "from sketching.datasets import Covertype_Sklearn\n",
    "from sketching import settings"
   ]
  },
  {
   "cell_type": "code",
   "execution_count": null,
   "metadata": {},
   "outputs": [],
   "source": [
    "# check if results directory exists\n",
    "if not settings.RESULTS_DIR.exists():\n",
    "    settings.RESULTS_DIR.mkdir()"
   ]
  },
  {
   "cell_type": "markdown",
   "metadata": {},
   "source": [
    "# Covertype Dataset"
   ]
  },
  {
   "cell_type": "code",
   "execution_count": null,
   "metadata": {},
   "outputs": [],
   "source": [
    "COVERTYPE_MIN_SIZE = 500\n",
    "COVERTYPE_MAX_SIZE = 15000\n",
    "COVERTYPE_STEP_SIZE = 500\n",
    "COVERTYPE_NUM_RUNS = 5\n",
    "\n",
    "dataset_covertype = Covertype_Sklearn()"
   ]
  },
  {
   "cell_type": "markdown",
   "metadata": {},
   "source": [
    "## Uniform Sampling"
   ]
  },
  {
   "cell_type": "code",
   "execution_count": null,
   "metadata": {},
   "outputs": [],
   "source": [
    "experiment_covertype_uniform = UniformSamplingExperiment(\n",
    "    dataset=dataset_covertype,\n",
    "    results_filename=settings.RESULTS_DIR / f\"{dataset_covertype.get_name()}_uniform.csv\",\n",
    "    min_size=COVERTYPE_MIN_SIZE,\n",
    "    max_size=COVERTYPE_MAX_SIZE,\n",
    "    step_size=COVERTYPE_STEP_SIZE,\n",
    "    num_runs=COVERTYPE_NUM_RUNS\n",
    ")\n",
    "experiment_covertype_uniform.run()"
   ]
  },
  {
   "cell_type": "markdown",
   "metadata": {},
   "source": [
    "## L2S Sampling"
   ]
  },
  {
   "cell_type": "code",
   "execution_count": null,
   "metadata": {},
   "outputs": [],
   "source": [
    "experiment_covertype_l2s = L2SExperiment(\n",
    "    dataset=dataset_covertype,\n",
    "    results_filename=settings.RESULTS_DIR / f\"{dataset_covertype.get_name()}_l2s.csv\",\n",
    "    min_size=COVERTYPE_MIN_SIZE,\n",
    "    max_size=COVERTYPE_MAX_SIZE,\n",
    "    step_size=COVERTYPE_STEP_SIZE,\n",
    "    num_runs=COVERTYPE_NUM_RUNS\n",
    ")\n",
    "experiment_covertype_l2s.run()"
   ]
  },
  {
   "cell_type": "markdown",
   "metadata": {},
   "source": [
    "## Stochastic Gradient Descent"
   ]
  },
  {
   "cell_type": "code",
   "execution_count": null,
   "metadata": {},
   "outputs": [],
   "source": [
    "experiment_covertype_sgd = SGDExperiment(\n",
    "    dataset=dataset_covertype,\n",
    "    results_filename=settings.RESULTS_DIR / f\"{dataset_covertype.get_name()}_sgd.csv\",\n",
    "    num_runs=COVERTYPE_NUM_RUNS\n",
    ")\n",
    "experiment_covertype_sgd.run()"
   ]
  },
  {
   "cell_type": "markdown",
   "metadata": {},
   "source": [
    "## Oblivious Sketching"
   ]
  },
  {
   "cell_type": "code",
   "execution_count": null,
   "metadata": {},
   "outputs": [],
   "source": [
    "experiment_covertype_sketching = ObliviousSketchingExperiment(\n",
    "    dataset=dataset_covertype,\n",
    "    results_filename=settings.RESULTS_DIR / f\"{dataset_covertype.get_name()}_sketching.csv\",\n",
    "    min_size=COVERTYPE_MIN_SIZE,\n",
    "    max_size=COVERTYPE_MAX_SIZE,\n",
    "    step_size=COVERTYPE_STEP_SIZE,\n",
    "    num_runs=COVERTYPE_NUM_RUNS,\n",
    "    h_max=2,\n",
    "    kyfan_percent=0.25\n",
    ")\n",
    "experiment_covertype_sketching.run()"
   ]
  }
 ],
 "metadata": {
  "kernelspec": {
   "display_name": "Python 3.9.5  ('venv': venv)",
   "name": "pythonjvsc74a57bd0973d2a6cb8ee44537b3c610059a856246ace7cb1c50cf3df2561fdd2103fe937"
  },
  "language_info": {
   "codemirror_mode": {
    "name": "ipython",
    "version": 3
   },
   "file_extension": ".py",
   "mimetype": "text/x-python",
   "name": "python",
   "nbconvert_exporter": "python",
   "pygments_lexer": "ipython3",
   "version": "3.9.5"
  },
  "metadata": {
   "interpreter": {
    "hash": "973d2a6cb8ee44537b3c610059a856246ace7cb1c50cf3df2561fdd2103fe937"
   }
  },
  "orig_nbformat": 2
 },
 "nbformat": 4,
 "nbformat_minor": 2
}